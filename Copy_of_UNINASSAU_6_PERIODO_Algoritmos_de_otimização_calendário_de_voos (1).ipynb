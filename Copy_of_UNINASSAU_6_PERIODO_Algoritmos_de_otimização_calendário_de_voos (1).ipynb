{
  "cells": [
    {
      "cell_type": "markdown",
      "metadata": {
        "id": "cgEE3Vq4qHhC"
      },
      "source": [
        "**Professor:** Wesley Vieira\n",
        "**6º Período Noite**"
      ]
    },
    {
      "cell_type": "markdown",
      "metadata": {
        "id": "lmY8JVlQxXjj"
      },
      "source": [
        "# Algoritmos de otimização - calendário de voos\n",
        "\n",
        "> **Tarefas para as equipes:** implementar o algoritmo **Simulated Annealing**, **Algoritmo Genético** e ***Hill Climb*** e comparar os resultados.\n",
        "\n",
        "> **Apresentar um relatório com os resultados das simulações**. O relatório que será utilizado como métrica para avaliação.\n"
      ]
    },
    {
      "cell_type": "markdown",
      "metadata": {
        "id": "iA6XSNeifEB0"
      },
      "source": [
        "## Representação do problema"
      ]
    },
    {
      "cell_type": "code",
      "execution_count": 1,
      "metadata": {
        "id": "tgkqEoRdxgfw"
      },
      "outputs": [],
      "source": [
        "pessoas = [('Lisboa', 'LIS'),\n",
        "           ('Madrid', 'MAD'),\n",
        "           ('Paris', 'CDG'),\n",
        "           ('Dublin', 'DUB'),\n",
        "           ('Bruxelas', 'BRU'),\n",
        "           ('Londres', 'LHR')]\n",
        "custo_espera_por_hora = 10.0"
      ]
    },
    {
      "cell_type": "code",
      "execution_count": 2,
      "metadata": {
        "id": "FezIjellyATt"
      },
      "outputs": [],
      "source": [
        "destino = 'FCO'"
      ]
    },
    {
      "cell_type": "code",
      "execution_count": null,
      "metadata": {
        "id": "ZxUhP_RCyloI"
      },
      "outputs": [],
      "source": [
        "voos = {('BRU', 'FCO'): ['15:44', '18:55', 382]}"
      ]
    },
    {
      "cell_type": "code",
      "execution_count": 3,
      "metadata": {
        "colab": {
          "base_uri": "https://localhost:8080/"
        },
        "collapsed": true,
        "id": "i4pk1lYDyaaY",
        "outputId": "964a32ea-798f-4c1e-8f28-00c8af28d1a3"
      },
      "outputs": [
        {
          "name": "stdout",
          "output_type": "stream",
          "text": [
            "Dicionário de voos criado com sucesso:\n",
            "{('FCO', 'LIS'): [(6.316666666666666, 8.216666666666667, 239), (8.066666666666666, 10.983333333333333, 136), (9.516666666666667, 11.716666666666667, 210), (11.116666666666667, 13.4, 171), (12.516666666666667, 14.033333333333333, 234), (14.083333333333334, 15.783333333333333, 226), (15.116666666666667, 17.35, 129), (16.583333333333332, 18.933333333333334, 144), (18.416666666666668, 20.566666666666666, 205), (20.083333333333332, 21.733333333333334, 172)], ('LIS', 'FCO'): [(6.183333333333334, 8.516666666666667, 249), (7.65, 10.4, 219), (9.25, 12.05, 99), (11.133333333333333, 13.116666666666667, 175), (12.3, 14.933333333333334, 172), (13.616666666666667, 15.133333333333333, 250), (15.05, 16.7, 135), (16.85, 19.15, 147), (18.2, 20.283333333333335, 242), (20.083333333333332, 22.1, 261)], ('FCO', 'MAD'): [(6.05, 8.716666666666667, 219), (7.833333333333333, 10.133333333333333, 164), (9.183333333333334, 10.7, 172), (10.55, 13.183333333333334, 132), (12.133333333333333, 14.783333333333333, 231), (14.316666666666666, 17.15, 190), (15.066666666666666, 17.383333333333333, 189), (17.1, 20.0, 95), (18.55, 20.366666666666667, 143), (19.533333333333335, 21.416666666666668, 160)], ('MAD', 'FCO'): [(6.083333333333333, 8.533333333333333, 174), (8.416666666666666, 10.566666666666666, 157), (9.7, 11.533333333333333, 169), (11.016666666666667, 12.65, 260), (12.733333333333333, 14.283333333333333, 134), (14.366666666666667, 16.533333333333335, 126), (15.966666666666667, 18.666666666666668, 173), (16.716666666666665, 19.0, 246), (18.8, 21.75, 246), (19.833333333333332, 22.4, 269)], ('FCO', 'CDG'): [(6.55, 9.233333333333333, 172), (8.383333333333333, 11.116666666666667, 143), (9.416666666666666, 12.766666666666667, 295), (11.133333333333333, 14.633333333333333, 262), (12.616666666666667, 15.083333333333334, 170), (14.133333333333333, 16.15, 232), (15.383333333333333, 18.816666666666666, 150), (16.833333333333332, 19.433333333333334, 304), (18.116666666666667, 21.5, 355), (20.45, 23.7, 169)], ('CDG', 'FCO'): [(6.416666666666667, 9.5, 335), (7.566666666666666, 9.666666666666666, 324), (9.25, 12.483333333333333, 225), (11.466666666666667, 14.666666666666666, 248), (12.083333333333334, 15.5, 330), (14.016666666666667, 17.4, 338), (15.566666666666666, 18.183333333333334, 326), (17.116666666666667, 20.066666666666666, 291), (18.383333333333333, 21.583333333333332, 134), (19.883333333333333, 22.35, 173)], ('FCO', 'DUB'): [(6.65, 8.15, 86), (8.383333333333333, 10.466666666666667, 149), (9.966666666666667, 11.3, 130), (10.55, 12.05, 74), (12.133333333333333, 14.083333333333334, 142), (13.65, 15.5, 74), (15.416666666666666, 16.966666666666665, 62), (17.05, 18.05, 103), (18.4, 20.816666666666666, 124), (19.966666666666665, 21.383333333333333, 142)], ('DUB', 'FCO'): [(6.283333333333333, 8.433333333333334, 89), (8.066666666666666, 10.183333333333334, 95), (9.75, 11.833333333333334, 172), (11.266666666666667, 13.483333333333333, 83), (12.566666666666666, 15.033333333333333, 109), (13.666666666666666, 15.616666666666667, 138), (15.45, 17.3, 151), (17.183333333333334, 18.5, 108), (18.566666666666666, 19.6, 136), (20.283333333333335, 22.366666666666667, 102)], ('FCO', 'BRU'): [(6.15, 9.816666666666666, 414), (7.95, 11.25, 347), (9.816666666666666, 13.85, 229), (10.85, 14.266666666666667, 256), (12.333333333333334, 16.566666666666666, 500), (14.333333333333334, 17.533333333333335, 332), (15.816666666666666, 20.166666666666668, 497), (17.233333333333334, 20.983333333333334, 277), (18.733333333333334, 22.7, 351), (19.95, 23.25, 512)], ('BRU', 'FCO'): [(6.2, 10.366666666666667, 230), (7.883333333333333, 11.616666666666667, 433), (9.133333333333333, 12.2, 364), (10.5, 14.95, 290), (12.316666666666666, 15.416666666666666, 342), (13.9, 18.033333333333335, 294), (15.733333333333333, 18.916666666666668, 382), (16.866666666666667, 20.8, 448), (18.433333333333334, 21.483333333333334, 464), (20.116666666666667, 23.45, 473)], ('FCO', 'LHR'): [(6.966666666666667, 9.016666666666667, 238), (8.316666666666666, 11.266666666666667, 122), (9.966666666666667, 12.933333333333334, 249), (10.533333333333333, 13.266666666666667, 139), (12.016666666666667, 13.683333333333334, 267), (13.616666666666667, 15.55, 142), (15.833333333333334, 18.75, 243), (16.55, 18.25, 253), (18.283333333333335, 21.066666666666666, 259), (19.766666666666666, 21.75, 214)], ('LHR', 'FCO'): [(6.133333333333334, 8.1, 224), (8.45, 10.75, 139), (9.25, 12.233333333333333, 247), (10.883333333333333, 13.6, 189), (12.133333333333333, 14.983333333333333, 149), (13.666666666666666, 15.633333333333333, 137), (15.383333333333333, 17.416666666666668, 232), (17.133333333333333, 19.133333333333333, 262), (18.583333333333332, 20.466666666666665, 204), (20.5, 23.183333333333334, 114)]}\n"
          ]
        }
      ],
      "source": [
        "voos = {}\n",
        "\n",
        "for linha in open('/content/flights.txt'):\n",
        "\n",
        "    # O resultado será: ['REC', 'GRU', '07:30', '10:00', '500']\n",
        "    dados = linha.strip().split(',')\n",
        "\n",
        "    origem        = dados[0]\n",
        "    destino       = dados[1]\n",
        "    saida_texto   = dados[2]\n",
        "    chegada_texto = dados[3]\n",
        "    preco_texto   = dados[4]\n",
        "\n",
        "    # Convertendo o horário de texto para inteiro\n",
        "\n",
        "    partes_saida = saida_texto.split(':')\n",
        "    horas_saida = int(partes_saida[0])\n",
        "    minutos_saida = int(partes_saida[1])\n",
        "    saida_numero = horas_saida + minutos_saida / 60\n",
        "\n",
        "    partes_chegada = chegada_texto.split(':')\n",
        "    horas_chegada = int(partes_chegada[0])\n",
        "    minutos_chegada = int(partes_chegada[1])\n",
        "    chegada_numero = horas_chegada + minutos_chegada / 60\n",
        "\n",
        "    preco_numero = int(preco_texto)\n",
        "\n",
        "    voo_formatado = (saida_numero, chegada_numero, preco_numero)\n",
        "\n",
        "\n",
        "    chave_da_rota = (origem, destino)\n",
        "\n",
        "    if chave_da_rota not in voos:\n",
        "        voos[chave_da_rota] = []\n",
        "    voos[chave_da_rota].append(voo_formatado)\n",
        "\n",
        "print(\"Dicionário de voos criado com sucesso:\")\n",
        "print(voos)"
      ]
    },
    {
      "cell_type": "code",
      "execution_count": null,
      "metadata": {
        "id": "BdW-jPj1v_Om"
      },
      "outputs": [],
      "source": [
        "#voos[('LIS', 'FCO')]\n",
        "#len(voos[('FCO', 'DUB')])\n",
        "#print(voos)"
      ]
    },
    {
      "cell_type": "code",
      "execution_count": 4,
      "metadata": {
        "id": "fZ3VCkNY2A5-"
      },
      "outputs": [],
      "source": [
        "def converter_float_para_horario(horario_float):\n",
        "    horas = int(horario_float)\n",
        "    minutos = int((horario_float - horas) * 60)\n",
        "    horario_formatado = f\"{horas:02d}:{minutos:02d}\"\n",
        "\n",
        "    return horario_formatado\n",
        "\n",
        "def imprimir_voos(agenda):\n",
        "    print('%15s %12s %8s %14s %8s' % ('Cidade (Origem)', 'Voo de Ida', 'Preço', 'Voo de Volta', 'Preço'))\n",
        "    print('=' * 70)\n",
        "\n",
        "    total_preco = 0\n",
        "    for i in range(len(pessoas)): # Usa a variável global 'pessoas'\n",
        "\n",
        "        cidade_origem = pessoas[i][0]\n",
        "        codigo_origem = pessoas[i][1]\n",
        "\n",
        "        indice_ida = agenda[i * 2]\n",
        "        indice_volta = agenda[i * 2 + 1]\n",
        "\n",
        "        # Usa as variáveis globais 'voos' e 'destino_final'\n",
        "        ida = voos[(codigo_origem, destino)][indice_ida]\n",
        "        volta = voos[(destino, codigo_origem)][indice_volta]\n",
        "\n",
        "        total_preco += ida[2]\n",
        "        total_preco += volta[2]\n",
        "\n",
        "        texto_voo_ida = f\"{converter_float_para_horario(ida[0])}-{converter_float_para_horario(ida[1])}\"\n",
        "        texto_voo_volta = f\"{converter_float_para_horario(volta[0])}-{converter_float_para_horario(volta[1])}\"\n",
        "\n",
        "        print('%15s %12s %8.2f %14s %8.2f' % (cidade_origem, texto_voo_ida, ida[2],\n",
        "                                                  texto_voo_volta, volta[2]))\n",
        "\n",
        "    print('=' * 70)\n",
        "    print(f'Preço total das passagens: R$ {total_preco:.2f}')"
      ]
    },
    {
      "cell_type": "code",
      "execution_count": 5,
      "metadata": {
        "colab": {
          "base_uri": "https://localhost:8080/"
        },
        "id": "zVPPuyby4IXF",
        "outputId": "1576d8f4-cc69-4118-cd33-ba31f32efeba"
      },
      "outputs": [
        {
          "name": "stdout",
          "output_type": "stream",
          "text": [
            "Cidade (Origem)   Voo de Ida    Preço   Voo de Volta    Preço\n",
            "======================================================================\n",
            "         Lisboa  06:11-08:31   249.00    14:05-15:46   226.00\n",
            "         Madrid  11:01-12:39   260.00    09:11-10:41   172.00\n",
            "          Paris  17:07-20:03   291.00    08:22-11:07   143.00\n",
            "         Dublin  08:03-10:11    95.00    10:33-12:03    74.00\n",
            "       Bruxelas  09:07-12:11   364.00    12:20-16:33   500.00\n",
            "        Londres  08:26-10:45   139.00    19:45-21:45   214.00\n",
            "======================================================================\n",
            "Preço total das passagens: R$ 2727.00\n"
          ]
        }
      ],
      "source": [
        "agenda = [0,5, 3,2, 7,1, 1,3, 2,4, 1,9]\n",
        "imprimir_voos(agenda)"
      ]
    },
    {
      "cell_type": "code",
      "execution_count": null,
      "metadata": {
        "colab": {
          "base_uri": "https://localhost:8080/"
        },
        "id": "ecuxeMa_43Jn",
        "outputId": "d0a1437f-db6c-48c9-de43-b85aadf7e4eb"
      },
      "outputs": [
        {
          "data": {
            "text/plain": [
              "1000000000000"
            ]
          },
          "execution_count": 17,
          "metadata": {},
          "output_type": "execute_result"
        }
      ],
      "source": [
        "10**12"
      ]
    },
    {
      "cell_type": "markdown",
      "metadata": {
        "id": "GqqEtILuYaj-"
      },
      "source": [
        "\n",
        "## Função Objetivo"
      ]
    },
    {
      "cell_type": "code",
      "execution_count": 45,
      "metadata": {
        "id": "fH1uo4sm5dyK"
      },
      "outputs": [],
      "source": [
        "def funcao_custo(agenda):\n",
        "    total_preco_passagens = 0\n",
        "    horarios_chegada_destino = []\n",
        "    horarios_partida_volta = []\n",
        "\n",
        "    for i in range(len(pessoas)):\n",
        "        codigo_origem = pessoas[i][1]\n",
        "\n",
        "        # Voo de Ida\n",
        "        indice_voo_ida = agenda[i * 2]\n",
        "        voo_ida = voos[(codigo_origem, destino)][indice_voo_ida]\n",
        "\n",
        "        total_preco_passagens += voo_ida[2]\n",
        "        horarios_chegada_destino.append(voo_ida[1])\n",
        "\n",
        "        # Voo de Volta\n",
        "        indice_voo_volta = agenda[i * 2 + 1]\n",
        "        voo_volta = voos[(destino, codigo_origem)][indice_voo_volta]\n",
        "\n",
        "        total_preco_passagens += voo_volta[2]\n",
        "        horarios_partida_volta.append(voo_volta[0])\n",
        "\n",
        "\n",
        "\n",
        "    horario_ultima_chegada = max(horarios_chegada_destino)\n",
        "    custo_total_espera_ida = 0\n",
        "    # Para cada passageiro, calcula quanto tempo ele vai esperar\n",
        "    for horario_chegada in horarios_chegada_destino:\n",
        "        tempo_de_espera_horas = horario_ultima_chegada - horario_chegada\n",
        "        custo_total_espera_ida += tempo_de_espera_horas * custo_espera_por_hora\n",
        "\n",
        "    horario_primeira_partida = min(horarios_partida_volta)\n",
        "    custo_total_espera_volta = 0\n",
        "    # Para cada passageiro, calcula quanto tempo ele vai esperar na volta\n",
        "    for horario_partida in horarios_partida_volta:\n",
        "        tempo_de_espera = horario_partida - horario_primeira_partida\n",
        "        custo_total_espera_volta += tempo_de_espera * custo_espera_por_hora\n",
        "\n",
        "\n",
        "    custo_final = total_preco_passagens + custo_total_espera_ida + custo_total_espera_volta\n",
        "\n",
        "    return custo_final"
      ]
    },
    {
      "cell_type": "code",
      "execution_count": 81,
      "metadata": {
        "colab": {
          "base_uri": "https://localhost:8080/"
        },
        "id": "OSaGBRB25_Xk",
        "outputId": "fe411075-1356-41f9-c975-db4cd16b9d68"
      },
      "outputs": [
        {
          "name": "stdout",
          "output_type": "stream",
          "text": [
            "3549.166666666667\n",
            "Cidade (Origem)   Voo de Ida    Preço   Voo de Volta    Preço\n",
            "======================================================================\n",
            "         Lisboa  07:39-10:24   219.00    20:04-21:44   172.00\n",
            "         Madrid  18:48-21:45   246.00    14:18-17:08   190.00\n",
            "          Paris  11:28-14:39   248.00    14:07-16:08   232.00\n",
            "         Dublin  09:45-11:50   172.00    17:03-18:03   103.00\n",
            "       Bruxelas  07:52-11:37   433.00    18:44-22:41   351.00\n",
            "        Londres  08:26-10:45   139.00    08:18-11:16   122.00\n",
            "======================================================================\n",
            "Preço total das passagens: R$ 2627.00\n"
          ]
        }
      ],
      "source": [
        "agenda = [1,9, 8,5, 3,5, 2,7, 1,8, 1,1]\n",
        "custo = funcao_custo(agenda)\n",
        "print(custo)\n",
        "agendamento = imprimir_voos(agenda)"
      ]
    },
    {
      "cell_type": "code",
      "execution_count": 73,
      "metadata": {
        "colab": {
          "base_uri": "https://localhost:8080/"
        },
        "id": "6Anv1jVA83hi",
        "outputId": "8b857b06-8e16-4c77-d7f7-9d19a0a8689e"
      },
      "outputs": [
        {
          "name": "stdout",
          "output_type": "stream",
          "text": [
            "[0, 9, 0, 9, 9, 3, 7, 1, 8, 3, 5, 8]\n",
            "3333.5\n",
            "Cidade (Origem)   Voo de Ida    Preço   Voo de Volta    Preço\n",
            "======================================================================\n",
            "         Lisboa  06:11-08:31   249.00    20:04-21:44   172.00\n",
            "         Madrid  06:04-08:31   174.00    19:32-21:25   160.00\n",
            "          Paris  19:52-22:21   173.00    11:07-14:37   262.00\n",
            "         Dublin  17:11-18:30   108.00    08:22-10:28   149.00\n",
            "       Bruxelas  18:26-21:29   464.00    10:50-14:16   256.00\n",
            "        Londres  13:39-15:37   137.00    18:17-21:03   259.00\n",
            "======================================================================\n",
            "Preço total das passagens: R$ 2563.00\n"
          ]
        }
      ],
      "source": [
        "import random as rd\n",
        "agenda =[]\n",
        "for i in range(len(pessoas)*2):\n",
        "  agenda.append(rd.randint(0,9))\n",
        "print(agenda)\n",
        "custo_solucao = funcao_custo(agenda)\n",
        "print(custo_solucao)\n",
        "imprimir = imprimir_voos(agenda)"
      ]
    }
  ],
  "metadata": {
    "colab": {
      "provenance": []
    },
    "kernelspec": {
      "display_name": "Python 3",
      "name": "python3"
    },
    "language_info": {
      "codemirror_mode": {
        "name": "ipython",
        "version": 3
      },
      "file_extension": ".py",
      "mimetype": "text/x-python",
      "name": "python",
      "nbconvert_exporter": "python",
      "pygments_lexer": "ipython3",
      "version": "3.13.3"
    }
  },
  "nbformat": 4,
  "nbformat_minor": 0
}
